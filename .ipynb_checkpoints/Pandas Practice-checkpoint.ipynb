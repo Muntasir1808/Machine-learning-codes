{
 "cells": [
  {
   "cell_type": "code",
   "execution_count": 2,
   "id": "e4bb8576",
   "metadata": {},
   "outputs": [],
   "source": [
    "import numpy as np\n",
    "import pandas as pd"
   ]
  },
  {
   "cell_type": "code",
   "execution_count": 3,
   "id": "d53504d7",
   "metadata": {},
   "outputs": [],
   "source": [
    "my_data = [3, 4, 5, 6]"
   ]
  },
  {
   "cell_type": "code",
   "execution_count": 4,
   "id": "fcd59647",
   "metadata": {},
   "outputs": [],
   "source": [
    "df = pd.Series(data=my_data)"
   ]
  },
  {
   "cell_type": "code",
   "execution_count": 5,
   "id": "4282ee17",
   "metadata": {},
   "outputs": [
    {
     "data": {
      "text/plain": [
       "0    3\n",
       "1    4\n",
       "2    5\n",
       "3    6\n",
       "dtype: int64"
      ]
     },
     "execution_count": 5,
     "metadata": {},
     "output_type": "execute_result"
    }
   ],
   "source": [
    "df"
   ]
  },
  {
   "cell_type": "code",
   "execution_count": 6,
   "id": "44dd5f53",
   "metadata": {},
   "outputs": [],
   "source": [
    "my_index = ['USA', 'CANADA', 'CHINA', 'BD']"
   ]
  },
  {
   "cell_type": "code",
   "execution_count": 7,
   "id": "3537bc5e",
   "metadata": {},
   "outputs": [
    {
     "data": {
      "text/plain": [
       "USA       3\n",
       "CANADA    4\n",
       "CHINA     5\n",
       "BD        6\n",
       "dtype: int64"
      ]
     },
     "execution_count": 7,
     "metadata": {},
     "output_type": "execute_result"
    }
   ],
   "source": [
    "df = pd.Series(my_data, my_index)\n",
    "df"
   ]
  },
  {
   "cell_type": "code",
   "execution_count": 9,
   "id": "03b1f819",
   "metadata": {},
   "outputs": [
    {
     "data": {
      "text/plain": [
       "USA       3\n",
       "CANADA    4\n",
       "dtype: int64"
      ]
     },
     "execution_count": 9,
     "metadata": {},
     "output_type": "execute_result"
    }
   ],
   "source": [
    "df[:2]"
   ]
  },
  {
   "cell_type": "code",
   "execution_count": null,
   "id": "143bbeb6",
   "metadata": {},
   "outputs": [],
   "source": [
    "details = {''}"
   ]
  }
 ],
 "metadata": {
  "kernelspec": {
   "display_name": "Python 3 (ipykernel)",
   "language": "python",
   "name": "python3"
  },
  "language_info": {
   "codemirror_mode": {
    "name": "ipython",
    "version": 3
   },
   "file_extension": ".py",
   "mimetype": "text/x-python",
   "name": "python",
   "nbconvert_exporter": "python",
   "pygments_lexer": "ipython3",
   "version": "3.9.12"
  }
 },
 "nbformat": 4,
 "nbformat_minor": 5
}
